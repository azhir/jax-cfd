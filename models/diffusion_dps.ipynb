{
 "cells": [
  {
   "cell_type": "markdown",
   "id": "444638aa",
   "metadata": {},
   "source": [
    "# MNIST DDPM + DPS Inpainting (Hello World)\n",
    "\n",
    "What this notebook does:\n",
    "1) Train a tiny DDPM (noise-prediction) on MNIST (28×28).\n",
    "2) Define an inpainting operator (mask).\n",
    "3) Use DPS (likelihood guidance) during the reverse process to sample from the posterior p(x|y).\n",
    "4) Visualize: original, masked measurement, DPS reconstruction, unconditional baseline.\n",
    "\n",
    "You can speed this up by reducing steps/epochs or using GPU.\n"
   ]
  },
  {
   "cell_type": "code",
   "execution_count": 26,
   "id": "f4b7d49c",
   "metadata": {},
   "outputs": [
    {
     "name": "stdout",
     "output_type": "stream",
     "text": [
      "Using device: mps\n"
     ]
    }
   ],
   "source": [
    "# Cell 1 — Imports & Config\n",
    "import torch\n",
    "import torch.nn as nn\n",
    "import torch.nn.functional as F\n",
    "from torch.utils.data import DataLoader\n",
    "from torchvision import datasets, transforms\n",
    "import matplotlib.pyplot as plt\n",
    "\n",
    "device = torch.device(\"cuda\" if torch.cuda.is_available() else \"mps\")\n",
    "print(\"Using device:\", device)\n",
    "\n",
    "# Diffusion hyperparameters\n",
    "T = 400  # number of diffusion steps\n"
   ]
  },
  {
   "cell_type": "markdown",
   "id": "7ec24db0",
   "metadata": {},
   "source": [
    "### Load MNIST Data"
   ]
  },
  {
   "cell_type": "code",
   "execution_count": 27,
   "id": "793d4de1",
   "metadata": {},
   "outputs": [],
   "source": [
    "# Cell 2 — Dataset & DataLoader (normalized to [-1,1])\n",
    "transform = transforms.Compose([\n",
    "    transforms.ToTensor(),\n",
    "    transforms.Normalize((0.5,), (0.5,))  # crucial!\n",
    "])\n",
    "\n",
    "train_ds = datasets.MNIST(root=\"./data\", train=True, download=True, transform=transform)\n",
    "test_ds  = datasets.MNIST(root=\"./data\", train=False, download=True, transform=transform)\n",
    "\n",
    "train_loader = DataLoader(train_ds, batch_size=128, shuffle=True, num_workers=2, pin_memory=True)\n",
    "test_loader  = DataLoader(test_ds,  batch_size=128, shuffle=False, num_workers=2, pin_memory=True)\n"
   ]
  },
  {
   "cell_type": "markdown",
   "id": "ae3c17f9",
   "metadata": {},
   "source": [
    "# Diffusion Parameters"
   ]
  },
  {
   "cell_type": "code",
   "execution_count": 28,
   "id": "c16b7cb3",
   "metadata": {},
   "outputs": [],
   "source": [
    "# Cell 3 — Diffusion schedule\n",
    "betas = torch.linspace(1e-4, 0.02, T).to(device)\n",
    "alphas = 1.0 - betas\n",
    "alpha_bars = torch.cumprod(alphas, dim=0)\n"
   ]
  },
  {
   "cell_type": "markdown",
   "id": "7e73812f",
   "metadata": {},
   "source": [
    "### Tiny model (barebones CNN)"
   ]
  },
  {
   "cell_type": "code",
   "execution_count": 29,
   "id": "a198035b",
   "metadata": {},
   "outputs": [],
   "source": [
    "# Cell 4 — Tiny but robust DDPM model\n",
    "class TinyDDPM(nn.Module):\n",
    "    def __init__(self, T, t_dim=32, channels=128):  # bumped channels\n",
    "        super().__init__()\n",
    "        self.t_emb = nn.Embedding(T, t_dim)\n",
    "        self.net = nn.Sequential(\n",
    "            nn.Conv2d(1 + t_dim, channels, 3, padding=1),\n",
    "            nn.ReLU(),\n",
    "            nn.Conv2d(channels, channels, 3, padding=1),\n",
    "            nn.ReLU(),\n",
    "            nn.Conv2d(channels, 1, 3, padding=1)\n",
    "        )\n",
    "\n",
    "    def forward(self, x, t):\n",
    "        t_emb = self.t_emb(t).unsqueeze(-1).unsqueeze(-1)\n",
    "        t_emb = t_emb.expand(-1, -1, x.size(2), x.size(3))\n",
    "        x_in = torch.cat([x, t_emb], dim=1)\n",
    "        return self.net(x_in)\n"
   ]
  },
  {
   "cell_type": "code",
   "execution_count": 30,
   "id": "98fb84ec",
   "metadata": {},
   "outputs": [],
   "source": [
    "class SmallUNet(nn.Module):\n",
    "    def __init__(self, T, t_dim=32, base_channels=64):\n",
    "        super().__init__()\n",
    "        self.t_emb = nn.Embedding(T, t_dim)\n",
    "\n",
    "        # Down\n",
    "        self.conv1 = nn.Conv2d(1 + t_dim, base_channels, 3, padding=1)\n",
    "        self.conv2 = nn.Conv2d(base_channels, base_channels * 2, 4, stride=2, padding=1)\n",
    "\n",
    "        # Bottleneck\n",
    "        self.conv3 = nn.Conv2d(base_channels * 2, base_channels * 2, 3, padding=1)\n",
    "\n",
    "        # Up\n",
    "        self.upconv = nn.ConvTranspose2d(base_channels * 2, base_channels, 4, stride=2, padding=1)\n",
    "        self.conv_out = nn.Conv2d(base_channels * 2, 1, 3, padding=1)  # concat skip\n",
    "\n",
    "    def forward(self, x, t):\n",
    "        t_emb = self.t_emb(t).unsqueeze(-1).unsqueeze(-1)\n",
    "        t_emb = t_emb.expand(-1, -1, x.size(2), x.size(3))\n",
    "        x_in = torch.cat([x, t_emb], dim=1)\n",
    "\n",
    "        # Down path\n",
    "        d1 = F.relu(self.conv1(x_in))\n",
    "        d2 = F.relu(self.conv2(d1))\n",
    "\n",
    "        # Bottleneck\n",
    "        b = F.relu(self.conv3(d2))\n",
    "\n",
    "        # Up path + skip\n",
    "        u = F.relu(self.upconv(b))\n",
    "        u = torch.cat([u, d1], dim=1)\n",
    "        out = self.conv_out(u)\n",
    "        return out\n"
   ]
  },
  {
   "cell_type": "code",
   "execution_count": null,
   "id": "b7bceb00",
   "metadata": {},
   "outputs": [],
   "source": [
    "model = SmallUNet(T).to(device)"
   ]
  },
  {
   "cell_type": "markdown",
   "id": "f612f701",
   "metadata": {},
   "source": [
    "# Training Model"
   ]
  },
  {
   "cell_type": "code",
   "execution_count": null,
   "id": "7402b625",
   "metadata": {},
   "outputs": [],
   "source": [
    "T = 400\n",
    "betas = torch.linspace(1e-4, 0.02, T).to(device)\n",
    "alphas = 1 - betas\n",
    "alpha_bars = torch.cumprod(alphas, dim=0)\n"
   ]
  },
  {
   "cell_type": "code",
   "execution_count": 36,
   "id": "104869e1",
   "metadata": {},
   "outputs": [],
   "source": [
    "def cosine_beta_schedule(T, s=0.008):\n",
    "    \"\"\"\n",
    "    Nichol & Dhariwal (2021) cosine schedule.\n",
    "    f(t) = cos^2((t/T + s)/(1+s) * π/2)\n",
    "    β_t = 1 - f(t+1)/f(t)\n",
    "    \"\"\"\n",
    "    steps = torch.arange(T + 1, dtype=torch.float64)\n",
    "    f = torch.cos(((steps / T) + s) / (1 + s) * math.pi / 2) ** 2\n",
    "    f = f / f[0]  # normalize so that ᾱ_0 = 1\n",
    "    betas = 1 - (f[1:] / f[:-1])\n",
    "    return betas.float()\n"
   ]
  },
  {
   "cell_type": "markdown",
   "id": "b4debb10",
   "metadata": {},
   "source": [
    "Training Loop"
   ]
  },
  {
   "cell_type": "code",
   "execution_count": 37,
   "id": "7906d0f3",
   "metadata": {},
   "outputs": [
    {
     "name": "stdout",
     "output_type": "stream",
     "text": [
      "Epoch 1/10 - avg loss: 0.0478\n",
      "Epoch 2/10 - avg loss: 0.0473\n",
      "Epoch 3/10 - avg loss: 0.0469\n",
      "Epoch 4/10 - avg loss: 0.0462\n",
      "Epoch 5/10 - avg loss: 0.0465\n"
     ]
    },
    {
     "name": "stderr",
     "output_type": "stream",
     "text": [
      "libc++abi: terminating due to uncaught exception of type std::__1::system_error: Broken pipe\n",
      "libc++abi: terminating due to uncaught exception of type std::__1::system_error: Broken pipe\n",
      "Exception ignored in: <function _MultiProcessingDataLoaderIter.__del__ at 0x10ddb0a40>\n",
      "Traceback (most recent call last):\n",
      "  File \"/Users/azhir/miniconda3/envs/jax_cfd/lib/python3.11/site-packages/torch/utils/data/dataloader.py\", line 1664, in __del__\n",
      "    self._shutdown_workers()\n",
      "  File \"/Users/azhir/miniconda3/envs/jax_cfd/lib/python3.11/site-packages/torch/utils/data/dataloader.py\", line 1628, in _shutdown_workers\n",
      "    w.join(timeout=_utils.MP_STATUS_CHECK_INTERVAL)\n",
      "  File \"/Users/azhir/miniconda3/envs/jax_cfd/lib/python3.11/multiprocessing/process.py\", line 149, in join\n",
      "    res = self._popen.wait(timeout)\n",
      "          ^^^^^^^^^^^^^^^^^^^^^^^^^\n",
      "  File \"/Users/azhir/miniconda3/envs/jax_cfd/lib/python3.11/multiprocessing/popen_fork.py\", line 43, in wait\n",
      "    return self.poll(os.WNOHANG if timeout == 0.0 else 0)\n",
      "           ^^^^^^^^^^^^^^^^^^^^^^^^^^^^^^^^^^^^^^^^^^^^^^\n",
      "  File \"/Users/azhir/miniconda3/envs/jax_cfd/lib/python3.11/multiprocessing/popen_fork.py\", line 24, in poll\n",
      "    def poll(self, flag=os.WNOHANG):\n",
      "\n",
      "  File \"/Users/azhir/miniconda3/envs/jax_cfd/lib/python3.11/site-packages/torch/utils/data/_utils/signal_handling.py\", line 73, in handler\n",
      "    _error_if_any_worker_fails()\n",
      "RuntimeError: DataLoader worker (pid 58397) is killed by signal: Abort trap: 6. \n"
     ]
    },
    {
     "ename": "KeyboardInterrupt",
     "evalue": "",
     "output_type": "error",
     "traceback": [
      "\u001b[31m---------------------------------------------------------------------------\u001b[39m",
      "\u001b[31mKeyboardInterrupt\u001b[39m                         Traceback (most recent call last)",
      "\u001b[36mCell\u001b[39m\u001b[36m \u001b[39m\u001b[32mIn[37]\u001b[39m\u001b[32m, line 62\u001b[39m\n\u001b[32m     59\u001b[39m     loss.backward()\n\u001b[32m     60\u001b[39m     optimizer.step()\n\u001b[32m---> \u001b[39m\u001b[32m62\u001b[39m     total_loss += \u001b[43mloss\u001b[49m\u001b[43m.\u001b[49m\u001b[43mitem\u001b[49m\u001b[43m(\u001b[49m\u001b[43m)\u001b[49m * bsz\n\u001b[32m     63\u001b[39m     count += bsz\n\u001b[32m     65\u001b[39m \u001b[38;5;28mprint\u001b[39m(\u001b[33mf\u001b[39m\u001b[33m\"\u001b[39m\u001b[33mEpoch \u001b[39m\u001b[38;5;132;01m{\u001b[39;00mepoch+\u001b[32m1\u001b[39m\u001b[38;5;132;01m}\u001b[39;00m\u001b[33m/\u001b[39m\u001b[38;5;132;01m{\u001b[39;00mepochs\u001b[38;5;132;01m}\u001b[39;00m\u001b[33m - avg loss: \u001b[39m\u001b[38;5;132;01m{\u001b[39;00mtotal_loss\u001b[38;5;250m \u001b[39m/\u001b[38;5;250m \u001b[39mcount\u001b[38;5;132;01m:\u001b[39;00m\u001b[33m.4f\u001b[39m\u001b[38;5;132;01m}\u001b[39;00m\u001b[33m\"\u001b[39m)\n",
      "\u001b[31mKeyboardInterrupt\u001b[39m: "
     ]
    }
   ],
   "source": [
    "# # Cell 5 — Training loop\n",
    "\n",
    "# epochs = 10\n",
    "# optimizer = torch.optim.Adam(model.parameters(), lr=1e-3)\n",
    "\n",
    "# for epoch in range(epochs):\n",
    "#     model.train()\n",
    "#     total_loss, count = 0.0, 0\n",
    "#     for x0, _ in train_loader:\n",
    "#         x0 = x0.to(device)\n",
    "#         t = torch.randint(0, T, (x0.size(0),), device=device)\n",
    "#         noise = torch.randn_like(x0)\n",
    "\n",
    "#         a_bar = alpha_bars[t].view(-1,1,1,1)\n",
    "#         x_t = torch.sqrt(a_bar)*x0 + torch.sqrt(1 - a_bar)*noise\n",
    "\n",
    "#         eps_pred = model(x_t, t)\n",
    "#         loss = F.mse_loss(eps_pred, noise)\n",
    "\n",
    "#         optimizer.zero_grad()\n",
    "#         loss.backward()\n",
    "#         optimizer.step()\n",
    "\n",
    "#         total_loss += loss.item() * x0.size(0)\n",
    "#         count += x0.size(0)\n",
    "\n",
    "#     avg_loss = total_loss / count\n",
    "#     print(f\"Epoch {epoch+1}/{epochs} - avg loss: {avg_loss:.4f}\")\n",
    "\n",
    "\n",
    "epochs = 10\n",
    "optimizer = torch.optim.AdamW(model.parameters(), lr=2e-4)\n",
    "for epoch in range(epochs):\n",
    "    model.train()\n",
    "    total_loss = 0\n",
    "    count = 0\n",
    "\n",
    "    for x0, _ in train_loader:\n",
    "        x0 = x0.to(device)\n",
    "        bsz = x0.size(0)\n",
    "\n",
    "        # Sample t uniformly from [0, T-1]\n",
    "        t = torch.randint(0, T, (bsz,), device=device)\n",
    "\n",
    "        # Sample Gaussian noise\n",
    "        noise = torch.randn_like(x0)\n",
    "\n",
    "        # Forward diffuse x0 → xt using cosine schedule\n",
    "        alpha_bar_t = alpha_bars[t].view(-1, 1, 1, 1)\n",
    "        x_t = torch.sqrt(alpha_bar_t) * x0 + torch.sqrt(1 - alpha_bar_t) * noise\n",
    "\n",
    "        # Predict noise\n",
    "        pred = model(x_t, t).sample if hasattr(model(x_t, t), \"sample\") else model(x_t, t)\n",
    "\n",
    "        # Loss: predict ε\n",
    "        loss = F.mse_loss(pred, noise)\n",
    "\n",
    "        optimizer.zero_grad()\n",
    "        loss.backward()\n",
    "        optimizer.step()\n",
    "\n",
    "        total_loss += loss.item() * bsz\n",
    "        count += bsz\n",
    "\n",
    "    print(f\"Epoch {epoch+1}/{epochs} - avg loss: {total_loss / count:.4f}\")\n",
    "\n"
   ]
  },
  {
   "cell_type": "code",
   "execution_count": 38,
   "id": "6a51fd5e",
   "metadata": {},
   "outputs": [],
   "source": [
    "@torch.no_grad()\n",
    "def predict_x0(x_t, t, eps_pred):\n",
    "    a_bar = alpha_bars[t].view(-1, 1, 1, 1)\n",
    "    return (x_t - torch.sqrt(1 - a_bar) * eps_pred) / torch.sqrt(a_bar)\n",
    "\n",
    "@torch.no_grad()\n",
    "def ddim_sample(model, n=8, steps=100):\n",
    "    \"\"\"\n",
    "    Deterministic DDIM sampling loop (T→0) using current alpha_bars.\n",
    "    \"\"\"\n",
    "    model.eval()\n",
    "    x = torch.randn(n, 1, 28, 28, device=device)\n",
    "    ts = torch.linspace(T-1, 0, steps, device=device).long()\n",
    "\n",
    "    for i, t_val in enumerate(ts):\n",
    "        t = t_val.expand(n)\n",
    "        eps_pred = model(x, t).sample if hasattr(model(x, t), \"sample\") else model(x, t)\n",
    "        x0_hat = predict_x0(x, t, eps_pred)\n",
    "        if i == steps - 1:\n",
    "            x = x0_hat\n",
    "        else:\n",
    "            t_next = ts[i+1].expand(n)\n",
    "            a_bar_next = alpha_bars[t_next].view(-1,1,1,1)\n",
    "            x = torch.sqrt(a_bar_next) * x0_hat + torch.sqrt(1 - a_bar_next) * eps_pred\n",
    "\n",
    "    return x.clamp(-1, 1)\n",
    "\n",
    "def to_img(x): \n",
    "    return (x.clamp(-1, 1) + 1) / 2\n"
   ]
  },
  {
   "cell_type": "code",
   "execution_count": 39,
   "id": "8ee47a31",
   "metadata": {},
   "outputs": [
    {
     "name": "stderr",
     "output_type": "stream",
     "text": [
      "Traceback (most recent call last):\n",
      "Traceback (most recent call last):\n",
      "  File \"<string>\", line 1, in <module>\n",
      "  File \"<string>\", line 1, in <module>\n",
      "  File \"/Users/azhir/miniconda3/envs/jax_cfd/lib/python3.11/multiprocessing/spawn.py\", line 122, in spawn_main\n",
      "  File \"/Users/azhir/miniconda3/envs/jax_cfd/lib/python3.11/multiprocessing/spawn.py\", line 122, in spawn_main\n",
      "    exitcode = _main(fd, parent_sentinel)\n",
      "    exitcode = _main(fd, parent_sentinel)\n",
      "                           ^ ^ ^ ^^^^^^^^^^^^^^^^^^^^^^^^^^^^^^^^^^^^^^^^^^^^^^\n",
      "^^^\n",
      "  File \"/Users/azhir/miniconda3/envs/jax_cfd/lib/python3.11/multiprocessing/spawn.py\", line 132, in _main\n",
      "  File \"/Users/azhir/miniconda3/envs/jax_cfd/lib/python3.11/multiprocessing/spawn.py\", line 132, in _main\n",
      "    self = reduction.pickle.load(from_parent)\n",
      "    self = reduction.pickle.load(from_parent)\n",
      "                  ^ ^ ^ ^ ^^^^^^^^^^^^^^^^^^^^^^^^^^^^^^^^^^^^^^^^^^^^^^^^^^^^^^^^^^^^\n",
      "^^^^\n",
      "  File \"/Users/azhir/miniconda3/envs/jax_cfd/lib/python3.11/site-packages/torch/multiprocessing/reductions.py\", line 560, in rebuild_storage_filename\n",
      "  File \"/Users/azhir/miniconda3/envs/jax_cfd/lib/python3.11/site-packages/torch/multiprocessing/reductions.py\", line 560, in rebuild_storage_filename\n",
      "    storage = torch.UntypedStorage._new_shared_filename_cpu(manager, handle, size)    \n",
      "storage = torch.UntypedStorage._new_shared_filename_cpu(manager, handle, size)\n",
      "                            ^^^^^^^^^^^^^^^^^^^^^^^^^^^^^^^^^^^^^^^^^^^^^^^^^^^^^^^^^^^^^^^^^^^^^^^^^^^^^^^^^^^^^^^^^^^^^^^^^^^^^^^^^^^^^^^^^^^^^^^^^^\n",
      "RuntimeError: Connection refused\n",
      "^^^^^^^^^^^^^^\n",
      "RuntimeError: Connection refused\n"
     ]
    },
    {
     "ename": "RuntimeError",
     "evalue": "DataLoader worker (pid(s) 58417) exited unexpectedly",
     "output_type": "error",
     "traceback": [
      "\u001b[31m---------------------------------------------------------------------------\u001b[39m",
      "\u001b[31mRuntimeError\u001b[39m                              Traceback (most recent call last)",
      "\u001b[36mFile \u001b[39m\u001b[32m~/miniconda3/envs/jax_cfd/lib/python3.11/site-packages/torch/utils/data/dataloader.py:1285\u001b[39m, in \u001b[36m_MultiProcessingDataLoaderIter._try_get_data\u001b[39m\u001b[34m(self, timeout)\u001b[39m\n\u001b[32m   1284\u001b[39m \u001b[38;5;28;01mtry\u001b[39;00m:\n\u001b[32m-> \u001b[39m\u001b[32m1285\u001b[39m     data = \u001b[38;5;28;43mself\u001b[39;49m\u001b[43m.\u001b[49m\u001b[43m_data_queue\u001b[49m\u001b[43m.\u001b[49m\u001b[43mget\u001b[49m\u001b[43m(\u001b[49m\u001b[43mtimeout\u001b[49m\u001b[43m=\u001b[49m\u001b[43mtimeout\u001b[49m\u001b[43m)\u001b[49m\n\u001b[32m   1286\u001b[39m     \u001b[38;5;28;01mreturn\u001b[39;00m (\u001b[38;5;28;01mTrue\u001b[39;00m, data)\n",
      "\u001b[36mFile \u001b[39m\u001b[32m~/miniconda3/envs/jax_cfd/lib/python3.11/multiprocessing/queues.py:113\u001b[39m, in \u001b[36mQueue.get\u001b[39m\u001b[34m(self, block, timeout)\u001b[39m\n\u001b[32m    112\u001b[39m timeout = deadline - time.monotonic()\n\u001b[32m--> \u001b[39m\u001b[32m113\u001b[39m \u001b[38;5;28;01mif\u001b[39;00m \u001b[38;5;129;01mnot\u001b[39;00m \u001b[38;5;28;43mself\u001b[39;49m\u001b[43m.\u001b[49m\u001b[43m_poll\u001b[49m\u001b[43m(\u001b[49m\u001b[43mtimeout\u001b[49m\u001b[43m)\u001b[49m:\n\u001b[32m    114\u001b[39m     \u001b[38;5;28;01mraise\u001b[39;00m Empty\n",
      "\u001b[36mFile \u001b[39m\u001b[32m~/miniconda3/envs/jax_cfd/lib/python3.11/multiprocessing/connection.py:257\u001b[39m, in \u001b[36m_ConnectionBase.poll\u001b[39m\u001b[34m(self, timeout)\u001b[39m\n\u001b[32m    256\u001b[39m \u001b[38;5;28mself\u001b[39m._check_readable()\n\u001b[32m--> \u001b[39m\u001b[32m257\u001b[39m \u001b[38;5;28;01mreturn\u001b[39;00m \u001b[38;5;28;43mself\u001b[39;49m\u001b[43m.\u001b[49m\u001b[43m_poll\u001b[49m\u001b[43m(\u001b[49m\u001b[43mtimeout\u001b[49m\u001b[43m)\u001b[49m\n",
      "\u001b[36mFile \u001b[39m\u001b[32m~/miniconda3/envs/jax_cfd/lib/python3.11/multiprocessing/connection.py:440\u001b[39m, in \u001b[36mConnection._poll\u001b[39m\u001b[34m(self, timeout)\u001b[39m\n\u001b[32m    439\u001b[39m \u001b[38;5;28;01mdef\u001b[39;00m\u001b[38;5;250m \u001b[39m\u001b[34m_poll\u001b[39m(\u001b[38;5;28mself\u001b[39m, timeout):\n\u001b[32m--> \u001b[39m\u001b[32m440\u001b[39m     r = \u001b[43mwait\u001b[49m\u001b[43m(\u001b[49m\u001b[43m[\u001b[49m\u001b[38;5;28;43mself\u001b[39;49m\u001b[43m]\u001b[49m\u001b[43m,\u001b[49m\u001b[43m \u001b[49m\u001b[43mtimeout\u001b[49m\u001b[43m)\u001b[49m\n\u001b[32m    441\u001b[39m     \u001b[38;5;28;01mreturn\u001b[39;00m \u001b[38;5;28mbool\u001b[39m(r)\n",
      "\u001b[36mFile \u001b[39m\u001b[32m~/miniconda3/envs/jax_cfd/lib/python3.11/multiprocessing/connection.py:948\u001b[39m, in \u001b[36mwait\u001b[39m\u001b[34m(object_list, timeout)\u001b[39m\n\u001b[32m    947\u001b[39m \u001b[38;5;28;01mwhile\u001b[39;00m \u001b[38;5;28;01mTrue\u001b[39;00m:\n\u001b[32m--> \u001b[39m\u001b[32m948\u001b[39m     ready = \u001b[43mselector\u001b[49m\u001b[43m.\u001b[49m\u001b[43mselect\u001b[49m\u001b[43m(\u001b[49m\u001b[43mtimeout\u001b[49m\u001b[43m)\u001b[49m\n\u001b[32m    949\u001b[39m     \u001b[38;5;28;01mif\u001b[39;00m ready:\n",
      "\u001b[36mFile \u001b[39m\u001b[32m~/miniconda3/envs/jax_cfd/lib/python3.11/selectors.py:415\u001b[39m, in \u001b[36m_PollLikeSelector.select\u001b[39m\u001b[34m(self, timeout)\u001b[39m\n\u001b[32m    414\u001b[39m \u001b[38;5;28;01mtry\u001b[39;00m:\n\u001b[32m--> \u001b[39m\u001b[32m415\u001b[39m     fd_event_list = \u001b[38;5;28mself\u001b[39m._selector.poll(timeout)\n\u001b[32m    416\u001b[39m \u001b[38;5;28;01mexcept\u001b[39;00m \u001b[38;5;167;01mInterruptedError\u001b[39;00m:\n",
      "\u001b[36mFile \u001b[39m\u001b[32m~/miniconda3/envs/jax_cfd/lib/python3.11/site-packages/torch/utils/data/_utils/signal_handling.py:73\u001b[39m, in \u001b[36m_set_SIGCHLD_handler.<locals>.handler\u001b[39m\u001b[34m(signum, frame)\u001b[39m\n\u001b[32m     70\u001b[39m \u001b[38;5;28;01mdef\u001b[39;00m\u001b[38;5;250m \u001b[39m\u001b[34mhandler\u001b[39m(signum, frame):\n\u001b[32m     71\u001b[39m     \u001b[38;5;66;03m# This following call uses `waitid` with WNOHANG from C side. Therefore,\u001b[39;00m\n\u001b[32m     72\u001b[39m     \u001b[38;5;66;03m# Python can still get and update the process status successfully.\u001b[39;00m\n\u001b[32m---> \u001b[39m\u001b[32m73\u001b[39m     \u001b[43m_error_if_any_worker_fails\u001b[49m\u001b[43m(\u001b[49m\u001b[43m)\u001b[49m\n\u001b[32m     74\u001b[39m     \u001b[38;5;28;01mif\u001b[39;00m previous_handler \u001b[38;5;129;01mis\u001b[39;00m \u001b[38;5;129;01mnot\u001b[39;00m \u001b[38;5;28;01mNone\u001b[39;00m:\n",
      "\u001b[31mRuntimeError\u001b[39m: DataLoader worker (pid 58417) exited unexpectedly with exit code 1. Details are lost due to multiprocessing. Rerunning with num_workers=0 may give better error trace.",
      "\nThe above exception was the direct cause of the following exception:\n",
      "\u001b[31mRuntimeError\u001b[39m                              Traceback (most recent call last)",
      "\u001b[36mCell\u001b[39m\u001b[36m \u001b[39m\u001b[32mIn[39]\u001b[39m\u001b[32m, line 12\u001b[39m\n\u001b[32m      9\u001b[39m total_loss = \u001b[32m0\u001b[39m\n\u001b[32m     10\u001b[39m count = \u001b[32m0\u001b[39m\n\u001b[32m---> \u001b[39m\u001b[32m12\u001b[39m \u001b[43m\u001b[49m\u001b[38;5;28;43;01mfor\u001b[39;49;00m\u001b[43m \u001b[49m\u001b[43mx0\u001b[49m\u001b[43m,\u001b[49m\u001b[43m \u001b[49m\u001b[43m_\u001b[49m\u001b[43m \u001b[49m\u001b[38;5;129;43;01min\u001b[39;49;00m\u001b[43m \u001b[49m\u001b[43mtrain_loader\u001b[49m\u001b[43m:\u001b[49m\n\u001b[32m     13\u001b[39m \u001b[43m    \u001b[49m\u001b[43mx0\u001b[49m\u001b[43m \u001b[49m\u001b[43m=\u001b[49m\u001b[43m \u001b[49m\u001b[43mx0\u001b[49m\u001b[43m.\u001b[49m\u001b[43mto\u001b[49m\u001b[43m(\u001b[49m\u001b[43mdevice\u001b[49m\u001b[43m)\u001b[49m\n\u001b[32m     14\u001b[39m \u001b[43m    \u001b[49m\u001b[43mbsz\u001b[49m\u001b[43m \u001b[49m\u001b[43m=\u001b[49m\u001b[43m \u001b[49m\u001b[43mx0\u001b[49m\u001b[43m.\u001b[49m\u001b[43msize\u001b[49m\u001b[43m(\u001b[49m\u001b[32;43m0\u001b[39;49m\u001b[43m)\u001b[49m\n",
      "\u001b[36mFile \u001b[39m\u001b[32m~/miniconda3/envs/jax_cfd/lib/python3.11/site-packages/torch/utils/data/dataloader.py:734\u001b[39m, in \u001b[36m_BaseDataLoaderIter.__next__\u001b[39m\u001b[34m(self)\u001b[39m\n\u001b[32m    731\u001b[39m \u001b[38;5;28;01mif\u001b[39;00m \u001b[38;5;28mself\u001b[39m._sampler_iter \u001b[38;5;129;01mis\u001b[39;00m \u001b[38;5;28;01mNone\u001b[39;00m:\n\u001b[32m    732\u001b[39m     \u001b[38;5;66;03m# TODO(https://github.com/pytorch/pytorch/issues/76750)\u001b[39;00m\n\u001b[32m    733\u001b[39m     \u001b[38;5;28mself\u001b[39m._reset()  \u001b[38;5;66;03m# type: ignore[call-arg]\u001b[39;00m\n\u001b[32m--> \u001b[39m\u001b[32m734\u001b[39m data = \u001b[38;5;28;43mself\u001b[39;49m\u001b[43m.\u001b[49m\u001b[43m_next_data\u001b[49m\u001b[43m(\u001b[49m\u001b[43m)\u001b[49m\n\u001b[32m    735\u001b[39m \u001b[38;5;28mself\u001b[39m._num_yielded += \u001b[32m1\u001b[39m\n\u001b[32m    736\u001b[39m \u001b[38;5;28;01mif\u001b[39;00m (\n\u001b[32m    737\u001b[39m     \u001b[38;5;28mself\u001b[39m._dataset_kind == _DatasetKind.Iterable\n\u001b[32m    738\u001b[39m     \u001b[38;5;129;01mand\u001b[39;00m \u001b[38;5;28mself\u001b[39m._IterableDataset_len_called \u001b[38;5;129;01mis\u001b[39;00m \u001b[38;5;129;01mnot\u001b[39;00m \u001b[38;5;28;01mNone\u001b[39;00m\n\u001b[32m    739\u001b[39m     \u001b[38;5;129;01mand\u001b[39;00m \u001b[38;5;28mself\u001b[39m._num_yielded > \u001b[38;5;28mself\u001b[39m._IterableDataset_len_called\n\u001b[32m    740\u001b[39m ):\n",
      "\u001b[36mFile \u001b[39m\u001b[32m~/miniconda3/envs/jax_cfd/lib/python3.11/site-packages/torch/utils/data/dataloader.py:1492\u001b[39m, in \u001b[36m_MultiProcessingDataLoaderIter._next_data\u001b[39m\u001b[34m(self)\u001b[39m\n\u001b[32m   1489\u001b[39m     \u001b[38;5;28;01mreturn\u001b[39;00m \u001b[38;5;28mself\u001b[39m._process_data(data, worker_id)\n\u001b[32m   1491\u001b[39m \u001b[38;5;28;01massert\u001b[39;00m \u001b[38;5;129;01mnot\u001b[39;00m \u001b[38;5;28mself\u001b[39m._shutdown \u001b[38;5;129;01mand\u001b[39;00m \u001b[38;5;28mself\u001b[39m._tasks_outstanding > \u001b[32m0\u001b[39m\n\u001b[32m-> \u001b[39m\u001b[32m1492\u001b[39m idx, data = \u001b[38;5;28;43mself\u001b[39;49m\u001b[43m.\u001b[49m\u001b[43m_get_data\u001b[49m\u001b[43m(\u001b[49m\u001b[43m)\u001b[49m\n\u001b[32m   1493\u001b[39m \u001b[38;5;28mself\u001b[39m._tasks_outstanding -= \u001b[32m1\u001b[39m\n\u001b[32m   1494\u001b[39m \u001b[38;5;28;01mif\u001b[39;00m \u001b[38;5;28mself\u001b[39m._dataset_kind == _DatasetKind.Iterable:\n\u001b[32m   1495\u001b[39m     \u001b[38;5;66;03m# Check for _IterableDatasetStopIteration\u001b[39;00m\n",
      "\u001b[36mFile \u001b[39m\u001b[32m~/miniconda3/envs/jax_cfd/lib/python3.11/site-packages/torch/utils/data/dataloader.py:1454\u001b[39m, in \u001b[36m_MultiProcessingDataLoaderIter._get_data\u001b[39m\u001b[34m(self)\u001b[39m\n\u001b[32m   1450\u001b[39m     \u001b[38;5;66;03m# In this case, `self._data_queue` is a `queue.Queue`,. But we don't\u001b[39;00m\n\u001b[32m   1451\u001b[39m     \u001b[38;5;66;03m# need to call `.task_done()` because we don't use `.join()`.\u001b[39;00m\n\u001b[32m   1452\u001b[39m \u001b[38;5;28;01melse\u001b[39;00m:\n\u001b[32m   1453\u001b[39m     \u001b[38;5;28;01mwhile\u001b[39;00m \u001b[38;5;28;01mTrue\u001b[39;00m:\n\u001b[32m-> \u001b[39m\u001b[32m1454\u001b[39m         success, data = \u001b[38;5;28;43mself\u001b[39;49m\u001b[43m.\u001b[49m\u001b[43m_try_get_data\u001b[49m\u001b[43m(\u001b[49m\u001b[43m)\u001b[49m\n\u001b[32m   1455\u001b[39m         \u001b[38;5;28;01mif\u001b[39;00m success:\n\u001b[32m   1456\u001b[39m             \u001b[38;5;28;01mreturn\u001b[39;00m data\n",
      "\u001b[36mFile \u001b[39m\u001b[32m~/miniconda3/envs/jax_cfd/lib/python3.11/site-packages/torch/utils/data/dataloader.py:1298\u001b[39m, in \u001b[36m_MultiProcessingDataLoaderIter._try_get_data\u001b[39m\u001b[34m(self, timeout)\u001b[39m\n\u001b[32m   1296\u001b[39m \u001b[38;5;28;01mif\u001b[39;00m \u001b[38;5;28mlen\u001b[39m(failed_workers) > \u001b[32m0\u001b[39m:\n\u001b[32m   1297\u001b[39m     pids_str = \u001b[33m\"\u001b[39m\u001b[33m, \u001b[39m\u001b[33m\"\u001b[39m.join(\u001b[38;5;28mstr\u001b[39m(w.pid) \u001b[38;5;28;01mfor\u001b[39;00m w \u001b[38;5;129;01min\u001b[39;00m failed_workers)\n\u001b[32m-> \u001b[39m\u001b[32m1298\u001b[39m     \u001b[38;5;28;01mraise\u001b[39;00m \u001b[38;5;167;01mRuntimeError\u001b[39;00m(\n\u001b[32m   1299\u001b[39m         \u001b[33mf\u001b[39m\u001b[33m\"\u001b[39m\u001b[33mDataLoader worker (pid(s) \u001b[39m\u001b[38;5;132;01m{\u001b[39;00mpids_str\u001b[38;5;132;01m}\u001b[39;00m\u001b[33m) exited unexpectedly\u001b[39m\u001b[33m\"\u001b[39m\n\u001b[32m   1300\u001b[39m     ) \u001b[38;5;28;01mfrom\u001b[39;00m\u001b[38;5;250m \u001b[39m\u001b[34;01me\u001b[39;00m\n\u001b[32m   1301\u001b[39m \u001b[38;5;28;01mif\u001b[39;00m \u001b[38;5;28misinstance\u001b[39m(e, queue.Empty):\n\u001b[32m   1302\u001b[39m     \u001b[38;5;28;01mreturn\u001b[39;00m (\u001b[38;5;28;01mFalse\u001b[39;00m, \u001b[38;5;28;01mNone\u001b[39;00m)\n",
      "\u001b[31mRuntimeError\u001b[39m: DataLoader worker (pid(s) 58417) exited unexpectedly"
     ]
    }
   ],
   "source": [
    "import matplotlib.pyplot as plt\n",
    "import torch.nn.functional as F\n",
    "\n",
    "epochs = 10\n",
    "optimizer = torch.optim.AdamW(model.parameters(), lr=2e-4)\n",
    "\n",
    "for epoch in range(epochs):\n",
    "    model.train()\n",
    "    total_loss = 0\n",
    "    count = 0\n",
    "\n",
    "    for x0, _ in train_loader:\n",
    "        x0 = x0.to(device)\n",
    "        bsz = x0.size(0)\n",
    "\n",
    "        # Sample t uniformly from [0, T-1]\n",
    "        t = torch.randint(0, T, (bsz,), device=device)\n",
    "\n",
    "        # Sample Gaussian noise\n",
    "        noise = torch.randn_like(x0)\n",
    "\n",
    "        # Forward diffuse x0 → xt using cosine schedule\n",
    "        alpha_bar_t = alpha_bars[t].view(-1, 1, 1, 1)\n",
    "        x_t = torch.sqrt(alpha_bar_t) * x0 + torch.sqrt(1 - alpha_bar_t) * noise\n",
    "\n",
    "        # Predict noise\n",
    "        pred = model(x_t, t).sample if hasattr(model(x_t, t), \"sample\") else model(x_t, t)\n",
    "\n",
    "        # Loss: predict ε\n",
    "        loss = F.mse_loss(pred, noise)\n",
    "\n",
    "        optimizer.zero_grad()\n",
    "        loss.backward()\n",
    "        optimizer.step()\n",
    "\n",
    "        total_loss += loss.item() * bsz\n",
    "        count += bsz\n",
    "\n",
    "    avg_loss = total_loss / count\n",
    "    print(f\"Epoch {epoch+1}/{epochs} - avg loss: {avg_loss:.4f}\")\n",
    "\n",
    "    # Generate DDIM samples every 2 epochs\n",
    "    if (epoch + 1) % 2 == 0 or (epoch + 1) == epochs:\n",
    "        samples = ddim_sample(model, n=8, steps=100)\n",
    "        samples = to_img(samples)\n",
    "\n",
    "        plt.figure(figsize=(12, 2))\n",
    "        for i in range(samples.size(0)):\n",
    "            plt.subplot(1, samples.size(0), i + 1)\n",
    "            plt.imshow(samples[i, 0].cpu(), cmap='gray')\n",
    "            plt.axis('off')\n",
    "        plt.suptitle(f\"DDIM samples after epoch {epoch+1}\", y=1.05)\n",
    "        plt.tight_layout()\n",
    "        plt.show()\n"
   ]
  },
  {
   "cell_type": "code",
   "execution_count": 35,
   "id": "daa779ac",
   "metadata": {},
   "outputs": [
    {
     "data": {
      "image/png": "[encoded data removed]",
      "text/plain": [
       "<Figure size 1200x200 with 8 Axes>"
      ]
     },
     "metadata": {},
     "output_type": "display_data"
    }
   ],
   "source": [
    "# Cell 6 — Deterministic DDIM sampling\n",
    "\n",
    "@torch.no_grad()\n",
    "def predict_x0(x_t, t, eps_pred):\n",
    "    a_bar = alpha_bars[t].view(-1,1,1,1)\n",
    "    return (x_t - torch.sqrt(1 - a_bar)*eps_pred) / torch.sqrt(a_bar)\n",
    "\n",
    "@torch.no_grad()\n",
    "def ddim_sample(model, n=8, steps=100):\n",
    "    model.eval()\n",
    "    x = torch.randn(n, 1, 28, 28, device=device)\n",
    "    ts = torch.linspace(T-1, 0, steps, device=device).long()\n",
    "    for i, t_val in enumerate(ts):\n",
    "        t = t_val.expand(n).to(device)\n",
    "        eps_pred = model(x, t)\n",
    "        x0_hat = predict_x0(x, t, eps_pred)\n",
    "        if i == steps - 1:\n",
    "            x = x0_hat\n",
    "        else:\n",
    "            t_next = ts[i+1].expand(n)\n",
    "            a_bar_next = alpha_bars[t_next].view(-1,1,1,1)\n",
    "            x = torch.sqrt(a_bar_next)*x0_hat + torch.sqrt(1 - a_bar_next)*eps_pred\n",
    "    return x.clamp(-1,1)\n",
    "\n",
    "\n",
    "# Visualize generated samples\n",
    "samples = ddim_sample(model, n=8, steps=400)\n",
    "def to_img(x): return (x.clamp(-1,1)+1)/2\n",
    "\n",
    "plt.figure(figsize=(12,2))\n",
    "for i in range(samples.size(0)):\n",
    "    plt.subplot(1, samples.size(0), i+1)\n",
    "    plt.imshow(to_img(samples[i,0]).cpu(), cmap='gray'); plt.axis('off')\n",
    "plt.suptitle(\"Unconditional DDIM samples\", y=1.05)\n",
    "plt.tight_layout(); plt.show()\n"
   ]
  },
  {
   "cell_type": "code",
   "execution_count": null,
   "id": "82113c99",
   "metadata": {},
   "outputs": [],
   "source": [
    "@torch.no_grad()\n",
    "def sample(model, n=16):\n",
    "    model.eval()\n",
    "    x = torch.randn((n, 1, 28, 28), device=device)\n",
    "    for t in reversed(range(T)):\n",
    "        t_batch = torch.tensor([t] * n, device=device)\n",
    "\n",
    "        # Predict noise\n",
    "        eps_theta = model(x, t_batch).sample if hasattr(model(x, t_batch), \"sample\") else model(x, t_batch)\n",
    "\n",
    "        alpha_t = alphas[t]\n",
    "        alpha_bar_t = alpha_bars[t]\n",
    "        beta_t = betas[t]\n",
    "\n",
    "        # Reverse DDPM step\n",
    "        x = (1 / torch.sqrt(alpha_t)) * (x - (1 - alpha_t) / torch.sqrt(1 - alpha_bar_t) * eps_theta)\n",
    "\n",
    "        if t > 0:\n",
    "            z = torch.randn_like(x)\n",
    "            x = x + torch.sqrt(beta_t) * z\n",
    "\n",
    "    return x\n",
    "\n",
    "\n",
    "# Visualize generated samples\n",
    "samples = ddim_sample(model, n=8, steps=400)\n",
    "def to_img(x): return (x.clamp(-1,1)+1)/2\n",
    "\n",
    "plt.figure(figsize=(12,2))\n",
    "for i in range(samples.size(0)):\n",
    "    plt.subplot(1, samples.size(0), i+1)\n",
    "    plt.imshow(to_img(samples[i,0]).cpu(), cmap='gray'); plt.axis('off')\n",
    "plt.suptitle(\"Unconditional DDIM samples\", y=1.05)\n",
    "plt.tight_layout(); plt.show()\n"
   ]
  }
 ],
 "metadata": {
  "kernelspec": {
   "display_name": "jax_cfd",
   "language": "python",
   "name": "python3"
  },
  "language_info": {
   "codemirror_mode": {
    "name": "ipython",
    "version": 3
   },
   "file_extension": ".py",
   "mimetype": "text/x-python",
   "name": "python",
   "nbconvert_exporter": "python",
   "pygments_lexer": "ipython3",
   "version": "3.11.13"
  }
 },
 "nbformat": 4,
 "nbformat_minor": 5
}
