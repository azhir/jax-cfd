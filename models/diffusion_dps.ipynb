{
 "cells": [
  {
   "cell_type": "markdown",
   "id": "444638aa",
   "metadata": {},
   "source": [
    "# MNIST DDPM + DPS Inpainting (Hello World)\n",
    "\n",
    "What this notebook does:\n",
    "1) Train a tiny DDPM (noise-prediction) on MNIST (28×28).\n",
    "2) Define an inpainting operator (mask).\n",
    "3) Use DPS (likelihood guidance) during the reverse process to sample from the posterior p(x|y).\n",
    "4) Visualize: original, masked measurement, DPS reconstruction, unconditional baseline.\n",
    "\n",
    "You can speed this up by reducing steps/epochs or using GPU.\n"
   ]
  },
  {
   "cell_type": "code",
   "execution_count": 18,
   "id": "f4b7d49c",
   "metadata": {},
   "outputs": [
    {
     "name": "stdout",
     "output_type": "stream",
     "text": [
      "Using device: mps\n"
     ]
    }
   ],
   "source": [
    "# Cell 1 — Imports & Config\n",
    "import torch\n",
    "import torch.nn as nn\n",
    "import torch.nn.functional as F\n",
    "from torch.utils.data import DataLoader\n",
    "from torchvision import datasets, transforms\n",
    "import matplotlib.pyplot as plt\n",
    "\n",
    "device = torch.device(\"cuda\" if torch.cuda.is_available() else \"mps\")\n",
    "print(\"Using device:\", device)\n",
    "\n",
    "# Diffusion hyperparameters\n",
    "T = 400  # number of diffusion steps\n"
   ]
  },
  {
   "cell_type": "markdown",
   "id": "7ec24db0",
   "metadata": {},
   "source": [
    "### Load MNIST Data"
   ]
  },
  {
   "cell_type": "code",
   "execution_count": 19,
   "id": "793d4de1",
   "metadata": {},
   "outputs": [],
   "source": [
    "# Cell 2 — Dataset & DataLoader (normalized to [-1,1])\n",
    "transform = transforms.Compose([\n",
    "    transforms.ToTensor(),\n",
    "    transforms.Normalize((0.5,), (0.5,))  # crucial!\n",
    "])\n",
    "\n",
    "train_ds = datasets.MNIST(root=\"./data\", train=True, download=True, transform=transform)\n",
    "test_ds  = datasets.MNIST(root=\"./data\", train=False, download=True, transform=transform)\n",
    "\n",
    "train_loader = DataLoader(train_ds, batch_size=128, shuffle=True, num_workers=2, pin_memory=True)\n",
    "test_loader  = DataLoader(test_ds,  batch_size=128, shuffle=False, num_workers=2, pin_memory=True)\n"
   ]
  },
  {
   "cell_type": "markdown",
   "id": "ae3c17f9",
   "metadata": {},
   "source": [
    "# Diffusion Parameters"
   ]
  },
  {
   "cell_type": "code",
   "execution_count": 20,
   "id": "c16b7cb3",
   "metadata": {},
   "outputs": [],
   "source": [
    "# Cell 3 — Diffusion schedule\n",
    "betas = torch.linspace(1e-4, 0.02, T).to(device)\n",
    "alphas = 1.0 - betas\n",
    "alpha_bars = torch.cumprod(alphas, dim=0)\n"
   ]
  },
  {
   "cell_type": "markdown",
   "id": "7e73812f",
   "metadata": {},
   "source": [
    "### Tiny model (barebones CNN)"
   ]
  },
  {
   "cell_type": "code",
   "execution_count": null,
   "id": "a198035b",
   "metadata": {},
   "outputs": [],
   "source": [
    "# Cell 4 — Tiny but robust DDPM model\n",
    "class TinyDDPM(nn.Module):\n",
    "    def __init__(self, T, t_dim=32, channels=128):  # bumped channels\n",
    "        super().__init__()\n",
    "        self.t_emb = nn.Embedding(T, t_dim)\n",
    "        self.net = nn.Sequential(\n",
    "            nn.Conv2d(1 + t_dim, channels, 3, padding=1),\n",
    "            nn.ReLU(),\n",
    "            nn.Conv2d(channels, channels, 3, padding=1),\n",
    "            nn.ReLU(),\n",
    "            nn.Conv2d(channels, 1, 3, padding=1)\n",
    "        )\n",
    "\n",
    "    def forward(self, x, t):\n",
    "        t_emb = self.t_emb(t).unsqueeze(-1).unsqueeze(-1)\n",
    "        t_emb = t_emb.expand(-1, -1, x.size(2), x.size(3))\n",
    "        x_in = torch.cat([x, t_emb], dim=1)\n",
    "        return self.net(x_in)\n"
   ]
  },
  {
   "cell_type": "code",
   "execution_count": null,
   "id": "98fb84ec",
   "metadata": {},
   "outputs": [],
   "source": [
    "class SmallUNet(nn.Module):\n",
    "    def __init__(self, T, t_dim=32, base_channels=64):\n",
    "        super().__init__()\n",
    "        self.t_emb = nn.Embedding(T, t_dim)\n",
    "\n",
    "        # Down\n",
    "        self.conv1 = nn.Conv2d(1 + t_dim, base_channels, 3, padding=1)\n",
    "        self.conv2 = nn.Conv2d(base_channels, base_channels * 2, 4, stride=2, padding=1)\n",
    "\n",
    "        # Bottleneck\n",
    "        self.conv3 = nn.Conv2d(base_channels * 2, base_channels * 2, 3, padding=1)\n",
    "\n",
    "        # Up\n",
    "        self.upconv = nn.ConvTranspose2d(base_channels * 2, base_channels, 4, stride=2, padding=1)\n",
    "        self.conv_out = nn.Conv2d(base_channels * 2, 1, 3, padding=1)  # concat skip\n",
    "\n",
    "    def forward(self, x, t):\n",
    "        t_emb = self.t_emb(t).unsqueeze(-1).unsqueeze(-1)\n",
    "        t_emb = t_emb.expand(-1, -1, x.size(2), x.size(3))\n",
    "        x_in = torch.cat([x, t_emb], dim=1)\n",
    "\n",
    "        # Down path\n",
    "        d1 = F.relu(self.conv1(x_in))\n",
    "        d2 = F.relu(self.conv2(d1))\n",
    "\n",
    "        # Bottleneck\n",
    "        b = F.relu(self.conv3(d2))\n",
    "\n",
    "        # Up path + skip\n",
    "        u = F.relu(self.upconv(b))\n",
    "        u = torch.cat([u, d1], dim=1)\n",
    "        out = self.conv_out(u)\n",
    "        return out\n"
   ]
  },
  {
   "cell_type": "code",
   "execution_count": null,
   "id": "b7bceb00",
   "metadata": {},
   "outputs": [],
   "source": [
    "model = SmallUNet(T).to(device)\n"
   ]
  },
  {
   "cell_type": "markdown",
   "id": "b4debb10",
   "metadata": {},
   "source": [
    "Training Loop"
   ]
  },
  {
   "cell_type": "code",
   "execution_count": 22,
   "id": "7906d0f3",
   "metadata": {},
   "outputs": [
    {
     "name": "stdout",
     "output_type": "stream",
     "text": [
      "Epoch 1/10 - avg loss: 0.1815\n",
      "Epoch 2/10 - avg loss: 0.0927\n",
      "Epoch 3/10 - avg loss: 0.0811\n",
      "Epoch 4/10 - avg loss: 0.0739\n",
      "Epoch 5/10 - avg loss: 0.0705\n",
      "Epoch 6/10 - avg loss: 0.0684\n",
      "Epoch 7/10 - avg loss: 0.0663\n",
      "Epoch 8/10 - avg loss: 0.0648\n",
      "Epoch 9/10 - avg loss: 0.0628\n",
      "Epoch 10/10 - avg loss: 0.0622\n"
     ]
    }
   ],
   "source": [
    "# Cell 5 — Training loop\n",
    "\n",
    "epochs = 10\n",
    "optimizer = torch.optim.Adam(model.parameters(), lr=1e-3)\n",
    "\n",
    "for epoch in range(epochs):\n",
    "    model.train()\n",
    "    total_loss, count = 0.0, 0\n",
    "    for x0, _ in train_loader:\n",
    "        x0 = x0.to(device)\n",
    "        t = torch.randint(0, T, (x0.size(0),), device=device)\n",
    "        noise = torch.randn_like(x0)\n",
    "\n",
    "        a_bar = alpha_bars[t].view(-1,1,1,1)\n",
    "        x_t = torch.sqrt(a_bar)*x0 + torch.sqrt(1 - a_bar)*noise\n",
    "\n",
    "        eps_pred = model(x_t, t)\n",
    "        loss = F.mse_loss(eps_pred, noise)\n",
    "\n",
    "        optimizer.zero_grad()\n",
    "        loss.backward()\n",
    "        optimizer.step()\n",
    "\n",
    "        total_loss += loss.item() * x0.size(0)\n",
    "        count += x0.size(0)\n",
    "\n",
    "    avg_loss = total_loss / count\n",
    "    print(f\"Epoch {epoch+1}/{epochs} - avg loss: {avg_loss:.4f}\")\n"
   ]
  },
  {
   "cell_type": "code",
   "execution_count": 25,
   "id": "daa779ac",
   "metadata": {},
   "outputs": [
    {
     "data": {
      "image/png": "[encoded data removed]",
      "text/plain": [
       "<Figure size 1200x200 with 8 Axes>"
      ]
     },
     "metadata": {},
     "output_type": "display_data"
    }
   ],
   "source": [
    "# Cell 6 — Deterministic DDIM sampling\n",
    "\n",
    "@torch.no_grad()\n",
    "def predict_x0(x_t, t, eps_pred):\n",
    "    a_bar = alpha_bars[t].view(-1,1,1,1)\n",
    "    return (x_t - torch.sqrt(1 - a_bar)*eps_pred) / torch.sqrt(a_bar)\n",
    "\n",
    "@torch.no_grad()\n",
    "def ddim_sample(model, n=8, steps=100):\n",
    "    model.eval()\n",
    "    x = torch.randn(n, 1, 28, 28, device=device)\n",
    "    ts = torch.linspace(T-1, 0, steps, device=device).long()\n",
    "    for i, t_val in enumerate(ts):\n",
    "        t = t_val.expand(n).to(device)\n",
    "        eps_pred = model(x, t)\n",
    "        x0_hat = predict_x0(x, t, eps_pred)\n",
    "        if i == steps - 1:\n",
    "            x = x0_hat\n",
    "        else:\n",
    "            t_next = ts[i+1].expand(n)\n",
    "            a_bar_next = alpha_bars[t_next].view(-1,1,1,1)\n",
    "            x = torch.sqrt(a_bar_next)*x0_hat + torch.sqrt(1 - a_bar_next)*eps_pred\n",
    "    return x.clamp(-1,1)\n",
    "\n",
    "\n",
    "# Visualize generated samples\n",
    "samples = ddim_sample(model, n=8, steps=100)\n",
    "def to_img(x): return (x.clamp(-1,1)+1)/2\n",
    "\n",
    "plt.figure(figsize=(12,2))\n",
    "for i in range(samples.size(0)):\n",
    "    plt.subplot(1, samples.size(0), i+1)\n",
    "    plt.imshow(to_img(samples[i,0]).cpu(), cmap='gray'); plt.axis('off')\n",
    "plt.suptitle(\"Unconditional DDIM samples\", y=1.05)\n",
    "plt.tight_layout(); plt.show()\n"
   ]
  },
  {
   "cell_type": "code",
   "execution_count": null,
   "id": "82113c99",
   "metadata": {},
   "outputs": [],
   "source": []
  }
 ],
 "metadata": {
  "kernelspec": {
   "display_name": "jax_cfd",
   "language": "python",
   "name": "python3"
  },
  "language_info": {
   "codemirror_mode": {
    "name": "ipython",
    "version": 3
   },
   "file_extension": ".py",
   "mimetype": "text/x-python",
   "name": "python",
   "nbconvert_exporter": "python",
   "pygments_lexer": "ipython3",
   "version": "3.11.13"
  }
 },
 "nbformat": 4,
 "nbformat_minor": 5
}
